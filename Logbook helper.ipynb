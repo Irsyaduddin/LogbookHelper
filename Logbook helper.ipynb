{
 "cells": [
  {
   "cell_type": "code",
   "execution_count": 9,
   "id": "d64705db",
   "metadata": {
    "ExecuteTime": {
     "end_time": "2022-08-17T01:00:28.876527Z",
     "start_time": "2022-08-17T01:00:28.857572Z"
    }
   },
   "outputs": [],
   "source": [
    "import docx\n",
    "import datetime\n",
    "import re\n",
    "from docx.shared import Pt\n",
    "import os"
   ]
  },
  {
   "cell_type": "code",
   "execution_count": 10,
   "id": "523084cd",
   "metadata": {
    "ExecuteTime": {
     "end_time": "2022-08-17T01:00:31.835897Z",
     "start_time": "2022-08-17T01:00:31.813584Z"
    }
   },
   "outputs": [
    {
     "data": {
      "text/plain": [
       "'D:\\\\!Research Asst'"
      ]
     },
     "execution_count": 10,
     "metadata": {},
     "output_type": "execute_result"
    }
   ],
   "source": [
    "os.getcwd()"
   ]
  },
  {
   "cell_type": "code",
   "execution_count": 2,
   "id": "61071186",
   "metadata": {
    "ExecuteTime": {
     "end_time": "2022-08-17T00:55:42.844263Z",
     "start_time": "2022-08-17T00:55:42.837282Z"
    }
   },
   "outputs": [
    {
     "name": "stdout",
     "output_type": "stream",
     "text": [
      "C:\\Users\\Legion\\Sand messy data\n"
     ]
    }
   ],
   "source": [
    "cd C:"
   ]
  },
  {
   "cell_type": "code",
   "execution_count": 3,
   "id": "bb0e85c8",
   "metadata": {
    "ExecuteTime": {
     "end_time": "2022-08-17T00:55:43.891316Z",
     "start_time": "2022-08-17T00:55:43.880335Z"
    }
   },
   "outputs": [
    {
     "name": "stdout",
     "output_type": "stream",
     "text": [
      "D:\\\n"
     ]
    }
   ],
   "source": [
    "cd D:"
   ]
  },
  {
   "cell_type": "code",
   "execution_count": 4,
   "id": "eb7730ab",
   "metadata": {
    "ExecuteTime": {
     "end_time": "2022-08-17T00:55:44.355587Z",
     "start_time": "2022-08-17T00:55:44.349603Z"
    }
   },
   "outputs": [
    {
     "name": "stdout",
     "output_type": "stream",
     "text": [
      "D:\\!Research Asst\n"
     ]
    }
   ],
   "source": [
    "cd \"!Research Asst\""
   ]
  },
  {
   "cell_type": "code",
   "execution_count": 5,
   "id": "9f324dcc",
   "metadata": {
    "ExecuteTime": {
     "end_time": "2022-08-17T00:55:45.784094Z",
     "start_time": "2022-08-17T00:55:45.769135Z"
    }
   },
   "outputs": [],
   "source": [
    "month='August'\n",
    "document = docx.Document('%s Logbook 130.docx'%month)"
   ]
  },
  {
   "cell_type": "code",
   "execution_count": 6,
   "id": "75578548",
   "metadata": {
    "ExecuteTime": {
     "end_time": "2022-08-17T00:55:49.253944Z",
     "start_time": "2022-08-17T00:55:49.232962Z"
    }
   },
   "outputs": [],
   "source": [
    "#Changing dates on initial page to current month\n",
    "document.tables[0].cell(8,1).text=datetime.datetime.now().strftime('%B')+' '+re.split(' ',document.tables[0].cell(8,1).text)[1]\n",
    "document.tables[0].cell(8,1).paragraphs[0].paragraph_format.space_after = Pt(1)\n",
    "list_sign=re.split('Date: ',document.tables[1].cell(0,0).text)\n",
    "list_sign[-1]=datetime.datetime.now().strftime('%d %B %G')+'\\n'\n",
    "document.tables[1].cell(0,0).text='Date: '.join(list_sign)\n",
    "\n",
    "list_sign=re.split('Date: ',document.tables[1].cell(0,1).text)\n",
    "list_sign[-1]=datetime.datetime.now().strftime('%d %B %G')+'\\n'\n",
    "document.tables[1].cell(0,1).text='Date: '.join(list_sign)"
   ]
  },
  {
   "cell_type": "code",
   "execution_count": 7,
   "id": "69f6032d",
   "metadata": {
    "ExecuteTime": {
     "end_time": "2022-08-17T00:55:50.609862Z",
     "start_time": "2022-08-17T00:55:50.592874Z"
    }
   },
   "outputs": [],
   "source": [
    "if len(document.tables)==2:\n",
    "    day_num=1\n",
    "else:\n",
    "    day_num=int(re.split('Day Number: ',document.tables[-1].cell(0,0).text)[1])+1\n",
    "document.add_paragraph()  \n",
    "document.add_table(7,1)\n",
    "    \n",
    "document.tables[-1].cell(0,0).paragraphs[0].add_run('Day Number: %i'%(day_num)).bold=True\n",
    "document.tables[-1].cell(1,0).paragraphs[0].add_run(\"Date: %s\"%(datetime.datetime.now().strftime('%d %B %G'))).bold=True\n",
    "document.tables[-1].cell(1,0).paragraphs[0].paragraph_format.space_after = Pt(1)\n",
    "document.tables[-1].cell(2,0).text='Lorem ipsum'\n",
    "document.tables[-1].cell(3,0).text='Signature of RA:\\n'\n",
    "document.tables[-1].cell(4,0).text=\"Supervisor's remarks\\n\"\n",
    "document.tables[-1].cell(5,0).text=\"Date: %s\"%(datetime.datetime.now().strftime('%d/%m/%Y'))\n",
    "document.tables[-1].cell(6,0).text=\"Signature of supervisor:\\n\"\n",
    "\n",
    "\n",
    "\n",
    "\n"
   ]
  },
  {
   "cell_type": "code",
   "execution_count": 8,
   "id": "a5251db5",
   "metadata": {
    "ExecuteTime": {
     "end_time": "2022-08-17T00:55:51.031455Z",
     "start_time": "2022-08-17T00:55:51.009475Z"
    }
   },
   "outputs": [],
   "source": [
    "document.save('%s Logbook 130.docx'%month)"
   ]
  }
 ],
 "metadata": {
  "kernelspec": {
   "display_name": "Python (geo_env)",
   "language": "python",
   "name": "geo_env"
  },
  "language_info": {
   "codemirror_mode": {
    "name": "ipython",
    "version": 3
   },
   "file_extension": ".py",
   "mimetype": "text/x-python",
   "name": "python",
   "nbconvert_exporter": "python",
   "pygments_lexer": "ipython3",
   "version": "3.10.4"
  }
 },
 "nbformat": 4,
 "nbformat_minor": 5
}
